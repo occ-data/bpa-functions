{
 "cells": [
  {
   "cell_type": "markdown",
   "metadata": {},
   "source": [
    "# Blood Fractionation Method Analysis"
   ]
  },
  {
   "cell_type": "markdown",
   "metadata": {},
   "source": [
    "First, we configure several variables we are using during this demo: project id, S3 profile and VM path to save data files from the S3 bucket: "
   ]
  },
  {
   "cell_type": "code",
   "execution_count": null,
   "metadata": {
    "collapsed": true,
    "scrolled": true
   },
   "outputs": [],
   "source": [
    "from cdispyutils.hmac4 import get_auth\n",
    "import requests, json, re\n",
    "import pandas as pd\n",
    "\n",
    "project = ''\n",
    "profile = ''\n",
    "path    = 'files/'"
   ]
  },
  {
   "cell_type": "markdown",
   "metadata": {},
   "source": [
    "### Get Authorization using your keys from the BPA API: data.bloodpac.org/identity\n",
    "These keys must be loaded in your VM's .secrets file. In the case of an access error, you may need a new keypair."
   ]
  },
  {
   "cell_type": "code",
   "execution_count": null,
   "metadata": {
    "collapsed": true
   },
   "outputs": [],
   "source": [
    "with open('/home/ubuntu/.secrets','r') as f:\n",
    "    secrets = json.load(f)\n",
    "auth = get_auth(secrets['access_key'], secrets['secret_key'], 'submission')\n"
   ]
  },
  {
   "cell_type": "markdown",
   "metadata": {},
   "source": [
    "### Querying data from graphQL"
   ]
  },
  {
   "cell_type": "markdown",
   "metadata": {},
   "source": [
    "** Find how many samples in commons have linked quantification assays:|**"
   ]
  },
  {
   "cell_type": "code",
   "execution_count": null,
   "metadata": {},
   "outputs": [],
   "source": [
    "# Setting 'gql' to the BloodPAC API graphQL url:\n",
    "api='http://kubenode.internal.io:30006/v0/submission/bpa/'\n",
    "gql = 'http://kubenode.internal.io:30006/v0/submission/graphql/'\n",
    "data = {'query': \"\"\" {\n",
    "            _sample_count(with_path_to:{type:\"quantification_assay\"})\n",
    "        } \"\"\"};\n",
    "\n",
    "resp = requests.post(gql,auth=auth,json=data)\n",
    "scount = re.search(\".*_sample_count\\\": (\\d+)\",str(resp.text)).group(1)\n",
    "print resp.text\n",
    "scount\n"
   ]
  },
  {
   "cell_type": "markdown",
   "metadata": {},
   "source": [
    "** Another way to do the same thing and get the samples' submitter_id and fractionation_method: **"
   ]
  },
  {
   "cell_type": "code",
   "execution_count": null,
   "metadata": {},
   "outputs": [],
   "source": [
    " data = {'query': \"\"\" {\n",
    "            sample(first:0,with_path_to:{type:\"quantification_assay\"}){\n",
    "                submitter_id\n",
    "                blood_fractionation_method\n",
    "            }\n",
    "        } \"\"\"};\n",
    "\n",
    "resp = requests.post(gql,auth=auth,json=data)\n",
    "samps = re.findall(\".*submitter_id\\\": \\\"(.+)\\\"\",str(resp.text))\n",
    "methods = re.findall('.*blood_fractionation_method\\\": \\\"(.+)\\\"',str(resp.text))\n",
    "z = zip(samps,methods)\n",
    "z = list(set(z))\n",
    "len(z)"
   ]
  },
  {
   "cell_type": "code",
   "execution_count": null,
   "metadata": {},
   "outputs": [],
   "source": [
    "print \"There are \"+str(len(set(methods)))+\" different blood fractionation methods for \"+str(len(set(samps)))+\" samples with links to quantification assays.\""
   ]
  },
  {
   "cell_type": "code",
   "execution_count": null,
   "metadata": {},
   "outputs": [],
   "source": [
    "# List the Sample IDs and their blood fractionation method\n",
    "zdf = pd.DataFrame(data=z)\n",
    "zdf.columns = ['Sample ID', 'Blood Fractionation Method']\n",
    "zdf \n"
   ]
  },
  {
   "cell_type": "markdown",
   "metadata": {},
   "source": [
    "** Find the 'blood_fractionation_method\" that yields the highest 'molecular_concentration':|**"
   ]
  },
  {
   "cell_type": "markdown",
   "metadata": {},
   "source": [
    "** You will see that the following query in this cell returns: \"Request Timeout\" because it is returning too many results: **\n"
   ]
  },
  {
   "cell_type": "code",
   "execution_count": null,
   "metadata": {
    "scrolled": true
   },
   "outputs": [],
   "source": [
    "data = {'query': \"\"\"{\n",
    "                        quantification_assay(first:0, \n",
    "                        not: {molecular_concentration:0}\n",
    "                        order_by_desc:\"molecular_concentration\") {   \n",
    "                               molecular_concentration\n",
    "                               project_id\n",
    "                               analytes(first:0){\n",
    "                                   aliquots(first:0){\n",
    "                                       samples(first:0){\n",
    "                                           submitter_id\n",
    "                                           blood_fractionation_method\n",
    "                                       }\n",
    "                                   }\n",
    "                               }\n",
    "                            }\n",
    "                    } \"\"\"};\n",
    "resp = requests.post(gql, auth=auth, json=data)\n",
    "print resp.text\n"
   ]
  },
  {
   "cell_type": "markdown",
   "metadata": {},
   "source": [
    "** Using pagination with graphQL: **\n",
    "\n",
    "We can use pagination (using combination of \"offset\" and \"first\") inside a loop to get all the data. \n",
    "When no data is returned, the API response is: `\"quantification_assay\": []`, which is when we break out of the loop.\n",
    "When this string is matched, the length of r is \"1\" and our loops terminates. \n",
    "If any data is returned, there is no match, and len(r) is \"0\"."
   ]
  },
  {
   "cell_type": "code",
   "execution_count": null,
   "metadata": {
    "collapsed": true
   },
   "outputs": [],
   "source": [
    "response = \"\" # this string will hold all the results\n",
    "offset=0 # start at the first result, with no offset\n",
    "r = () # r is a list that will contain the result of the regular expression that checks whether data is returned\n",
    "\n",
    "\n",
    "while len(r) != 1:\n",
    "    q = \"\"\"{\n",
    "                    quantification_assay(first:100,offset:\"\"\"+str(offset)+\"\"\", \n",
    "                    not: {molecular_concentration:0}\n",
    "                    order_by_desc:\"molecular_concentration\"){\n",
    "                        molecular_concentration\n",
    "                        project_id\n",
    "                        analytes(first:0){\n",
    "                            aliquots(first:0){\n",
    "                                samples(first:0){\n",
    "                                    submitter_id\n",
    "                                    blood_fractionation_method               \n",
    "                                }\n",
    "                            }\n",
    "                        }\n",
    "                    }\n",
    "        } \"\"\"\n",
    "    data = {'query':q}\n",
    "    resp = requests.post(gql, auth=auth, json=data)\n",
    "    response += str(resp.text) # concatenate the returned data\n",
    "    r = re.findall(\".*quantification_assay\\\": \\[\\]\",str(resp.text)) #this is where we check whether data was returned\n",
    "    offset+=100 #increase the offset to get the next 100 records\n",
    "    "
   ]
  },
  {
   "cell_type": "markdown",
   "metadata": {},
   "source": [
    "** Using REGEX to extract our data from the response: **"
   ]
  },
  {
   "cell_type": "code",
   "execution_count": null,
   "metadata": {},
   "outputs": [],
   "source": [
    "methods = re.findall('.*blood_fractionation_method\\\": \\\"(.+)\\\"',response)\n",
    "concs = re.findall(\".*molecular_concentration\\\": (.+),\",response)\n",
    "c = map(float,concs)\n",
    "ids = re.findall(\".*submitter_id\\\": \\\"(.+)\\\"\",response)\n",
    "z = zip(methods,c)\n",
    "assays = dict(zip(ids,z ))\n",
    "#a = pd.DataFrame(data=assays)\n",
    "a = pd.Series(assays, name='Method, Molecular Concentration')\n",
    "a.index.name = 'Sample ID'\n",
    "a.reset_index()"
   ]
  },
  {
   "cell_type": "code",
   "execution_count": null,
   "metadata": {},
   "outputs": [],
   "source": [
    "print(\"There are \" + str(len(set(ids))) + \" samples with \" +\n",
    "      str(len(set(methods))) + \" different blood fractionation methods for \" +\n",
    "      str(len(concs)) + \" different quantification assays with non-zero molecular concentrations.\")"
   ]
  },
  {
   "cell_type": "markdown",
   "metadata": {},
   "source": [
    "### 2) Plot the distribution of molecular concentrations "
   ]
  },
  {
   "cell_type": "code",
   "execution_count": null,
   "metadata": {},
   "outputs": [],
   "source": [
    "import numpy as np\n",
    "import matplotlib.pyplot as plt\n",
    "import matplotlib.mlab as mlab\n",
    "\n",
    "#plt.hist(numpy.log(c))\n",
    "plt.hist(c)\n",
    "plt.show()\n"
   ]
  },
  {
   "cell_type": "code",
   "execution_count": null,
   "metadata": {},
   "outputs": [],
   "source": [
    "print(\"mean: \"+str(np.mean(c))+\", median: \"+str(np.median(c))+ \", max: \"+str(max(c))+\", min: \"+str(min(c))+\".\")\n"
   ]
  },
  {
   "cell_type": "code",
   "execution_count": null,
   "metadata": {
    "scrolled": true
   },
   "outputs": [],
   "source": [
    "# the histogram of the data\n",
    "plt.subplot(211)\n",
    "n, bins, patches = plt.hist(c, 2000, normed=1, facecolor='green', alpha=0.75)\n",
    "p = plt.hist(c, 100, normed=1, facecolor='green', alpha=0.75)\n",
    "\n",
    "# add a 'best fit' line\n",
    "mu = np.mean(c)\n",
    "sigma = np.std(c)\n",
    "y = mlab.normpdf( bins, mu, sigma)\n",
    "l = plt.plot(bins, y, 'r--', linewidth=1)\n",
    "\n",
    "plt.xlabel('DNA Concentration')\n",
    "plt.ylabel('Frequency')\n",
    "plt.title(r'$\\mathrm{Histogram\\ of\\ [DNA]}$')\n",
    "plt.axis([0, 850, 0, 0.05])\n",
    "plt.grid(True)\n",
    "\n",
    "\n",
    "plt.subplot(212)\n",
    "p = plt.hist(c, 2000, normed=1, facecolor='green', alpha=0.75)\n",
    "plt.axis([0, 10, 0, 0.2])\n",
    "plt.grid(True)\n",
    "\n",
    "plt.show(p)\n"
   ]
  },
  {
   "cell_type": "markdown",
   "metadata": {},
   "source": [
    "# Question: How many samples have blood_fractionation_method and molecular concentration?  Can you export a table with 2 columns for these two fields?\n"
   ]
  },
  {
   "cell_type": "code",
   "execution_count": null,
   "metadata": {
    "collapsed": true
   },
   "outputs": [],
   "source": [
    "q = \"\"\"{\n",
    "  sample(first:0,\n",
    "  with_path_to:[\n",
    "  {type:\"quantification_assay\"},\n",
    "  {type:\"analyte\",analyte_type:\"DNA\"}]) {\n",
    "    blood_fractionation_method\n",
    "    submitter_id\n",
    "    project_id\n",
    "    aliquots(first:0,with_path_to:[{type:\"quantification_assay\"},{type:\"analyte\",analyte_type:\"DNA\"}]) {\n",
    "      analytes(first:0,analyte_type:\"DNA\") {\n",
    "        quantification_assays(first:0) {\n",
    "          molecular_concentration\n",
    "        }\n",
    "      }\n",
    "    }\n",
    "  } \n",
    "}\"\"\"\n",
    "\n",
    "\n",
    "\n",
    "data = {'query':q}\n",
    "resp = requests.post(gql, auth=auth, json=data)\n",
    "jresp = json.loads(resp.text)\n",
    "#jresp"
   ]
  },
  {
   "cell_type": "code",
   "execution_count": null,
   "metadata": {
    "collapsed": true
   },
   "outputs": [],
   "source": [
    "mc = []\n",
    "for i in jresp[\"data\"][\"sample\"]:\n",
    "    subid = i[\"submitter_id\"]\n",
    "    projid = i[\"project_id\"]\n",
    "    bfm = i[\"blood_fractionation_method\"]\n",
    "    dnac = []\n",
    "    for j in i[\"aliquots\"]:\n",
    "        for k in j[\"analytes\"]:\n",
    "            for l in k[\"quantification_assays\"]:\n",
    "                dnac.append(l[\"molecular_concentration\"])\n",
    "    line = str(subid)+\"\\t\"+str(projid)+\"\\t\"+str(bfm)+\"\\t\"+str(dnac)\n",
    "#    print line\n",
    "    mcs = [subid,projid,bfm,dnac]\n",
    "    mc.append(mcs)    "
   ]
  },
  {
   "cell_type": "code",
   "execution_count": null,
   "metadata": {},
   "outputs": [],
   "source": [
    "print \"There are \"+str(len(mc))+\" samples with 'blood_fractionation_method' and 'molecular concentration' and links to DNA analytes.\""
   ]
  },
  {
   "cell_type": "code",
   "execution_count": null,
   "metadata": {},
   "outputs": [],
   "source": [
    "m = pd.DataFrame(data=mc)\n",
    "m.columns = ['Sample ID', 'Project ID', 'Blood Fractionation Method', 'Molecular Concentration']\n",
    "m"
   ]
  },
  {
   "cell_type": "code",
   "execution_count": null,
   "metadata": {
    "collapsed": true
   },
   "outputs": [],
   "source": []
  }
 ],
 "metadata": {
  "anaconda-cloud": {},
  "kernelspec": {
   "display_name": "Python 2",
   "language": "python",
   "name": "python2"
  },
  "language_info": {
   "codemirror_mode": {
    "name": "ipython",
    "version": 2
   },
   "file_extension": ".py",
   "mimetype": "text/x-python",
   "name": "python",
   "nbconvert_exporter": "python",
   "pygments_lexer": "ipython2",
   "version": "2.7.6"
  }
 },
 "nbformat": 4,
 "nbformat_minor": 1
}
